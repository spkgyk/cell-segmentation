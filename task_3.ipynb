{
 "cells": [
  {
   "cell_type": "code",
   "execution_count": 1,
   "metadata": {},
   "outputs": [],
   "source": [
    "from src.task_3 import main"
   ]
  },
  {
   "cell_type": "code",
   "execution_count": 2,
   "metadata": {},
   "outputs": [
    {
     "name": "stdout",
     "output_type": "stream",
     "text": [
      "Pipeline execution completed.\n"
     ]
    }
   ],
   "source": [
    "main()"
   ]
  },
  {
   "cell_type": "markdown",
   "metadata": {},
   "source": [
    "# Overview\n",
    "\n",
    "<div style=\"text-align: center;\">\n",
    "  <img src=\"./docs/pipeline.png\" alt=\"Docs\" width=\"40%\"/>\n",
    "</div>\n",
    "\n",
    "The figure above describes the steps taken by the `main` function. The pipeline consists of three blocks:\n",
    "\n",
    "- `DataLoader` handles data-related tasks such as loading images and saving CSV files.\n",
    "- `ModelRunner` manages the computer vision models required in the pipeline.\n",
    "- `ReportGenerator` conducts statistical analysis on the results and generates a report document (output.md).\n",
    "\n",
    "### Detailed Breakdown\n",
    "\n",
    "Using these three classes, the pipeline can be broken down as follows:\n",
    "\n",
    "1. **Data Loading**:\n",
    "    - `DataLoader` calls `get_wsi_paths()` to find the WSI paths inside a specified parent directory using `os.listdir` and other methods.\n",
    "    - For each WSI path:\n",
    "        1. The `DataLoader`'s `load_wsi` method loads the WSI image into memory.\n",
    "        2. The `DataLoader`'s `extract_patches` method extracts all patches of a given size from the image, filtering out mainly white images using a pixel mean threshold.\n",
    "\n",
    "2. **Model Running**:\n",
    "    - The `ModelRunner`'s `run_segmentation` method runs segmentation on all the patches. Ideally, a finetuned *Cellpose* model trained on the specific dataset and image style would be used.\n",
    "    - The `ModelRunner`'s `run_classification` method is applied to each segment. This could involve cropping the image around each bounding box containing a segment and classifying the contents. A well-trained convolutional classification architecture would be suitable. Alternatively, a semantic segmentation model could be designed to replace the segmentation/classification model pair and perform direct classification. However, this approach involves more complex modeling due to the increased task difficulty.\n",
    "    - The results of the classification are saved as a `.csv` file by passing the results of the `run_classification` method to the `DataLoader`'s `save_classification_results` method.\n",
    "\n",
    "3. **Report Generation**:\n",
    "    - Assuming each WSI path is linked to a `patient_id`, experiment `arm`, and `treatment` category, statistical analysis is run on a merged dataset containing all the `.csv` files from the previous step. This generates metrics seen in [task_2.ipynb](./task_2.ipynb), including p-tests for the null hypothesis.\n",
    "    - The results of the p-tests are then passed to either an LLM API such as ChatGPT 3.5 using the `openai` Python library, or a local instance of an LLM such as Llama 3 8B instruct running on a *Hugging Face* `pipeline` or *Ollama*'s *LangChain* import. A detailed prompt instructs the LLM on how to format and write the report, given the results of the statistical analysis.\n",
    "    - This report is saved locally to a desired output directory. Alternatively, it could be automatically emailed to all team members or uploaded to a company shared file storage (such as Azure or a shared folder in Slack)."
   ]
  }
 ],
 "metadata": {
  "kernelspec": {
   "display_name": "cell-segmentation",
   "language": "python",
   "name": "python3"
  },
  "language_info": {
   "codemirror_mode": {
    "name": "ipython",
    "version": 3
   },
   "file_extension": ".py",
   "mimetype": "text/x-python",
   "name": "python",
   "nbconvert_exporter": "python",
   "pygments_lexer": "ipython3",
   "version": "3.12.3"
  }
 },
 "nbformat": 4,
 "nbformat_minor": 2
}
